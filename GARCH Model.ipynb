{
 "cells": [
  {
   "cell_type": "code",
   "execution_count": 20,
   "id": "f4ae2405",
   "metadata": {},
   "outputs": [],
   "source": [
    "import numpy as np\n",
    "import pandas as pd\n",
    "import yfinance as yf\n",
    "import matplotlib.pyplot as plt\n",
    "import scipy.optimize as spop"
   ]
  },
  {
   "cell_type": "code",
   "execution_count": 21,
   "id": "bd5278b4",
   "metadata": {},
   "outputs": [],
   "source": [
    "ticker = '^GSPC'\n",
    "start = '2020-01-01'\n",
    "end = '2021-06-25'"
   ]
  },
  {
   "cell_type": "code",
   "execution_count": 22,
   "id": "41cfba30",
   "metadata": {},
   "outputs": [
    {
     "name": "stdout",
     "output_type": "stream",
     "text": [
      "[*********************100%***********************]  1 of 1 completed\n"
     ]
    }
   ],
   "source": [
    "prices = yf.download(ticker, start, end)['Close']"
   ]
  },
  {
   "cell_type": "code",
   "execution_count": 32,
   "id": "ba16c4c8",
   "metadata": {},
   "outputs": [],
   "source": [
    "#Divide array from 2nd to Last day by array from 1st to the penultimate date\n",
    "returns = np.array(prices)[1:]/np.array(prices)[:-1] - 1"
   ]
  },
  {
   "cell_type": "code",
   "execution_count": 37,
   "id": "65415456",
   "metadata": {},
   "outputs": [],
   "source": [
    "#Parameters\n",
    "mean = np.average(returns)\n",
    "var = np.std(returns)**2"
   ]
  },
  {
   "cell_type": "code",
   "execution_count": 39,
   "id": "3d65f1a0",
   "metadata": {},
   "outputs": [],
   "source": [
    "def garch_mle(params):\n",
    "    mu = params[0]\n",
    "    omega = params[1]\n",
    "    alpha = params[2]\n",
    "    beta = params[3]\n",
    "    \n",
    "    #long-run volatility\n",
    "    long_run = (omega/(1- alpha - beta))**(1/2)\n",
    "    \n",
    "    #realized and conditional volatility\n",
    "    resid = returns - mu\n",
    "    realized = abs(resid)\n",
    "\n",
    "    conditional = np.zeros(len(returns))\n",
    "    conditional[0] = long_run\n",
    "    for t in range(1, len(returns)):\n",
    "        conditional[t] = (omega + alpha*resid[t-1]**2 + beta*conditional[t-1]**2)**(1/2)\n",
    "    \n",
    "    #log-likelihood\n",
    "    likelihood = 1/((2*np.pi)**(1/2)*conditional) * np.exp(-realized**2/(2*conditional**2))\n",
    "    log_likelihood = np.sum(np.log(likelihood))\n",
    "    return -log_likelihood"
   ]
  },
  {
   "cell_type": "code",
   "execution_count": 40,
   "id": "1ecc5569",
   "metadata": {},
   "outputs": [
    {
     "name": "stderr",
     "output_type": "stream",
     "text": [
      "<ipython-input-39-682f1f78baf6>:17: RuntimeWarning: invalid value encountered in double_scalars\n",
      "  conditional[t] = (omega + alpha*resid[t-1]**2 + beta*conditional[t-1]**2)**(1/2)\n",
      "<ipython-input-39-682f1f78baf6>:8: RuntimeWarning: invalid value encountered in double_scalars\n",
      "  long_run = (omega/(1- alpha - beta))**(1/2)\n"
     ]
    }
   ],
   "source": [
    "#maximize log-likelihood, minimize negative = maximize positive\n",
    "res = spop.minimize(garch_mle, [mean, var, 0, 0], method='Nelder-Mead')"
   ]
  },
  {
   "cell_type": "code",
   "execution_count": 41,
   "id": "413d9d4e",
   "metadata": {},
   "outputs": [],
   "source": [
    "#retrieve optimal parameters\n",
    "params = res.x\n",
    "mu = res.x[0]\n",
    "omega = res.x[1]\n",
    "alpha = res.x[2]\n",
    "beta = res.x[3]\n",
    "log_likelihood = -float(res.fun)"
   ]
  },
  {
   "cell_type": "code",
   "execution_count": 42,
   "id": "113a97c5",
   "metadata": {},
   "outputs": [],
   "source": [
    "#Calculating realized and conditional volatility (prev)\n",
    "#long-run volatility\n",
    "long_run = (omega/(1- alpha - beta))**(1/2)\n",
    "\n",
    "#realized and conditional volatility\n",
    "resid = returns - mu\n",
    "realized = abs(resid)\n",
    "\n",
    "conditional = np.zeros(len(returns))\n",
    "conditional[0] = long_run\n",
    "for t in range(1, len(returns)):\n",
    "    conditional[t] = (omega + alpha*resid[t-1]**2 + beta*conditional[t-1]**2)**(1/2)"
   ]
  },
  {
   "cell_type": "code",
   "execution_count": 43,
   "id": "0f0df933",
   "metadata": {},
   "outputs": [
    {
     "name": "stdout",
     "output_type": "stream",
     "text": [
      "GARCH Model Parameters\n",
      "\n",
      "mu0.001259\n",
      "omega1.2e-05\n",
      "alpha0.269897\n",
      "beta0.672963\n",
      "long-run volatility0.0143\n",
      "log-likelihood1116.024\n"
     ]
    }
   ],
   "source": [
    "#printing optimal params\n",
    "print('GARCH Model Parameters')\n",
    "print('')\n",
    "print('mu: ' + str(round(mu,6)))\n",
    "print('omega: ' + str(round(omega,6)))\n",
    "print('alpha: ' + str(round(alpha,6)))\n",
    "print('beta: ' + str(round(beta,6)))\n",
    "print('long-run volatility: ' + str(round(long_run, 4)))\n",
    "print('log-likelihood' + str(round(log_likelihood, 4)))"
   ]
  },
  {
   "cell_type": "code",
   "execution_count": 44,
   "id": "61b41f18",
   "metadata": {},
   "outputs": [
    {
     "data": {
      "image/png": "[encoded data removed]",
      "text/plain": [
       "<Figure size 432x288 with 1 Axes>"
      ]
     },
     "metadata": {
      "needs_background": "light"
     },
     "output_type": "display_data"
    }
   ],
   "source": [
    "#visualization\n",
    "plt.figure(1)\n",
    "plt.rc('xtick', labelsize = 10)\n",
    "plt.plot(prices.index[1:], realized)\n",
    "plt.plot(prices.index[1:], conditional)\n",
    "plt.show()"
   ]
  }
 ],
 "metadata": {
  "kernelspec": {
   "display_name": "Python 3",
   "language": "python",
   "name": "python3"
  },
  "language_info": {
   "codemirror_mode": {
    "name": "ipython",
    "version": 3
   },
   "file_extension": ".py",
   "mimetype": "text/x-python",
   "name": "python",
   "nbconvert_exporter": "python",
   "pygments_lexer": "ipython3",
   "version": "3.8.8"
  }
 },
 "nbformat": 4,
 "nbformat_minor": 5
}
